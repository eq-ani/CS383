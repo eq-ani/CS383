{
  "cells": [
    {
      "cell_type": "markdown",
      "metadata": {
        "id": "O3KijSLdDtfr"
      },
      "source": [
        "# Assignment 5: Introduction to Pytorch\n",
        "## PyTorch\n",
        "\n",
        "**PyTorch** is an open-source machine learning library for Python that is widely used for developing and training deep learning models.\n",
        "\n",
        "PyTorch provides two main features:\n",
        "\n",
        "1.  An n-dimensional **Tensor**, similar to NumPy but can run on GPUs.\n",
        "2.  Automatic differentiation for building and training neural networks."
      ]
    },
    {
      "cell_type": "markdown",
      "metadata": {
        "id": "C_tzTvZujtuc"
      },
      "source": [
        "TODO: How many late days are you using for this assignment?\n",
        "Ans: 0"
      ]
    },
    {
      "cell_type": "markdown",
      "metadata": {
        "id": "5Sk7qzM0EGy-"
      },
      "source": [
        "## Section 1: PyTorch Tensors\n",
        "\n",
        "- These next few code blocks introduce PyTorch tensors, covering their creation from lists and NumPy arrays, initialization with random values, ones, and zeros, and key attributes like shape, datatype, and device placement.\n",
        "- Please fill out the None values in the following cells with the appropriate functions"
      ]
    },
    {
      "cell_type": "markdown",
      "metadata": {
        "id": "1mRENraBbRgP"
      },
      "source": [
        "### Section 1.1 Creating Tensors\n",
        "\n",
        "##### Creating a Tensor from a List  \n",
        "PyTorch tensors are core to working with data and building models in PyTorch. They are important as they provide the foundation for efficient computation, especially for deep learning tasks. PyTorch tensors can be muti-dimensional and can be easily moved between GPU and CPU. To begin working with PyTorch, we will start by creating tensors.\n",
        "\n",
        "This cell imports the PyTorch library and initializes a 2D list. It includes a TODO to create a tensor from the list using `torch.tensor(data)`, but the assignment to `x_data` is currently set to `None`. The cell is intended to demonstrate creating a tensor from a Python list.  \n",
        "\n",
        "In the following section please update the **None** values with your answer"
      ]
    },
    {
      "cell_type": "code",
      "execution_count": 1,
      "metadata": {
        "id": "72_VWMUZDvLQ"
      },
      "outputs": [
        {
          "name": "stdout",
          "output_type": "stream",
          "text": [
            "Tensor from list:\n",
            " tensor([[1, 2],\n",
            "        [3, 4]]) \n",
            "\n"
          ]
        }
      ],
      "source": [
        "# Import the PyTorch library\n",
        "import torch\n",
        "# ### Creating Tensors\n",
        "data = [[1, 2], [3, 4]]\n",
        "# TODO: Create a tensor from a list and output the tensor\n",
        "x_data = torch.tensor(data)\n",
        "print(f\"Tensor from list:\\n {x_data} \\n\")"
      ]
    },
    {
      "cell_type": "markdown",
      "metadata": {
        "id": "ZfuanlyFYQto"
      },
      "source": [
        "##### Creating a Tensor from a NumPy Array  \n",
        "Pytorch provides an easy way to convert NumPy objects to PyTorch Tensors. We will explore this in the cell below."
      ]
    },
    {
      "cell_type": "code",
      "execution_count": 2,
      "metadata": {
        "id": "5BBA_1RbGPky"
      },
      "outputs": [
        {
          "name": "stdout",
          "output_type": "stream",
          "text": [
            "Tensor from NumPy array:\n",
            " tensor([[1, 2],\n",
            "        [3, 4]]) \n",
            "\n",
            "NumPy array from tensor:\n",
            " [[1 2]\n",
            " [3 4]] \n",
            "\n"
          ]
        }
      ],
      "source": [
        "\n",
        "import numpy as np\n",
        "np_array = np.array(data)\n",
        "# TODO: Create a tensor from a NumPy array\n",
        "x_np = torch.from_numpy(np_array)\n",
        "print(f\"Tensor from NumPy array:\\n {x_np} \\n\")\n",
        "\n",
        "# TODO: Convert the tensor back to a NumPy array\n",
        "x_np_back = x_np.numpy()\n",
        "print(f\"NumPy array from tensor:\\n {x_np_back} \\n\")"
      ]
    },
    {
      "cell_type": "markdown",
      "metadata": {
        "id": "Yhuya3r7Yua0"
      },
      "source": [
        "##### Creating Tensors with Specific Values  \n",
        "This cell includes TODOs for creating tensors with specific properties:  \n",
        "- `x_ones`: A tensor of the same shape as `x_data`, filled with ones, retaining its properties.  \n",
        "- `x_rand`: A tensor of the same shape as `x_data`, filled with random values between 0 and 1, overriding its datatype.  \n",
        "- `rand_tensor`: A randomly initialized tensor with a specified shape `(2,3)`.  \n",
        "- `ones_tensor`: A tensor of shape `(2,3)` filled with ones.  \n",
        "- `zeros_tensor`: A tensor of shape `(2,3)` filled with zeros.  \n",
        "\n",
        "##### Tensor Attributes  \n",
        "The last part of this cell creates a random tensor of shape `(3,4)` and prints its attributes: shape, datatype, and the device it is stored on.  \n"
      ]
    },
    {
      "cell_type": "code",
      "execution_count": 3,
      "metadata": {
        "id": "rstUFSZuGVwG"
      },
      "outputs": [
        {
          "name": "stdout",
          "output_type": "stream",
          "text": [
            "Ones Tensor: \n",
            " tensor([[1, 1],\n",
            "        [1, 1]]) \n",
            "\n",
            "Random Tensor: \n",
            " tensor([[0.4931, 0.9397],\n",
            "        [0.2389, 0.3784]]) \n",
            "\n",
            "Random Tensor: \n",
            " tensor([[0.6914, 0.7416, 0.9328],\n",
            "        [0.6985, 0.5679, 0.7611]]) \n",
            "\n",
            "Ones Tensor: \n",
            " tensor([[1., 1., 1.],\n",
            "        [1., 1., 1.]]) \n",
            "\n",
            "Zeros Tensor: \n",
            " tensor([[0., 0., 0.],\n",
            "        [0., 0., 0.]])\n",
            "\n",
            "Shape of tensor: torch.Size([3, 4])\n",
            "Datatype of tensor: torch.float32\n",
            "Device tensor is stored on: cpu\n"
          ]
        }
      ],
      "source": [
        "# TODO: Create a tensor of same dimensions as x_data with ones in place\n",
        "x_ones = torch.ones_like(x_data) # retains the properties of x_data\n",
        "print(f\"Ones Tensor: \\n {x_ones} \\n\")\n",
        "\n",
        "#TODO: Creates a tensor of same dimensions as x_data with random values between 0 and 1\n",
        "x_rand = torch.rand_like(x_data, dtype=torch.float) # overrides the datatype of x_data\n",
        "print(f\"Random Tensor: \\n {x_rand} \\n\")\n",
        "\n",
        "# Create a tensor with specified shape\n",
        "shape = (2,3)\n",
        "\n",
        "# TODO: Fill out the following None values\n",
        "rand_tensor = torch.rand(shape)        # A tensor of shape (2,3) with random values\n",
        "ones_tensor = torch.ones(shape)        # A tensor of shape (2,3) with ones\n",
        "zeros_tensor = torch.zeros(shape)      # A tensor of shape (2,3) with zeros\n",
        "\n",
        "print(f\"Random Tensor: \\n {rand_tensor} \\n\")\n",
        "print(f\"Ones Tensor: \\n {ones_tensor} \\n\")\n",
        "print(f\"Zeros Tensor: \\n {zeros_tensor}\")\n",
        "\n",
        "print()\n",
        "#### Tensor Attributes\n",
        "tensor = torch.rand(3,4)\n",
        "print(f\"Shape of tensor: {tensor.shape}\")\n",
        "print(f\"Datatype of tensor: {tensor.dtype}\")\n",
        "print(f\"Device tensor is stored on: {tensor.device}\")"
      ]
    },
    {
      "cell_type": "markdown",
      "metadata": {
        "id": "-3wrp1HzbAXc"
      },
      "source": [
        "### Section 1.2 Moving Tensors from CPU to GPU\n",
        "One great benefit of PyTorch is that it enables us to easily use GPUs. In deep learning, we often use very large tensors with parallelizable operations. The architecture of GPU can accelerate these operation, allowing more efficient learning. In this section, we will learn how to move tensors to GPU.  This section has no TODOs and is for your information.\n",
        "\n",
        "Note: This code block will give different outputs depending on your access to a GPU.\n",
        "\n",
        "The cell output displays what output you would get if you run this cell using a GPU."
      ]
    },
    {
      "cell_type": "code",
      "execution_count": 4,
      "metadata": {
        "id": "t5Xdy7L6Gwr2"
      },
      "outputs": [
        {
          "name": "stdout",
          "output_type": "stream",
          "text": [
            "GPU is not available, using CPU.\n",
            "\n",
            "\n"
          ]
        }
      ],
      "source": [
        "# The output of this cell will be different depending on if your machine has access to a GPU\n",
        "# Observe what happens when running it in your current enviornment\n",
        "\n",
        "if torch.cuda.is_available():\n",
        "    device = torch.device(\"cuda\")          # Use the first available GPU\n",
        "    print(\"GPU is available!\")\n",
        "else:\n",
        "    device = torch.device(\"cpu\")\n",
        "    print(\"GPU is not available, using CPU.\")\n",
        "print()\n",
        "\n",
        "if torch.cuda.is_available():\n",
        "  tensor = torch.rand(3,4)\n",
        "  print(f\"Device tensor is stored on: {tensor.device}\") #By default, device is cpu\n",
        "  print('You are not using GPU yet!')\n",
        "  print()\n",
        "  tensor = tensor.to(device)\n",
        "  print(f\"Device tensor is stored on: {tensor.device}\")\n",
        "  print('Congrats, you are using GPU!')\n",
        "print()\n",
        "\n",
        "# Common Error\n",
        "if torch.cuda.is_available():\n",
        "    try:\n",
        "        y_cpu = torch.randn(3,4)\n",
        "        result = tensor + y_cpu # Error! Tensors on different devices\n",
        "    except RuntimeError as e:\n",
        "        print(\"Error:\", e)\n",
        "        print(\"Remember: Move both tensors to the same device to perform operations.\")"
      ]
    },
    {
      "cell_type": "markdown",
      "metadata": {
        "id": "hkZvB3PAb6UT"
      },
      "source": [
        "### Section 1.3 Tensor Operations\n",
        "\n",
        "Tensor operations in PyTorch include a variety of element-wise and matrix operations such as addition, subtraction, multiplication, and division. Common operations include:  \n",
        "\n",
        "- **Element-wise Operations**: Addition (`+`), subtraction (`-`), multiplication (`*`), and division (`/`).  \n",
        "- **Matrix Operations**: Matrix multiplication (`torch.matmul()` or `@` operator), transposition (`tensor.T`), and inversion.  \n",
        "- **Reduction Operations**: Summation (`torch.sum()`), mean (`torch.mean()`), max/min (`torch.max()` / `torch.min()`).  \n",
        "- **Reshaping**: Changing tensor dimensions using `torch.reshape()`, `torch.view()`, or `torch.permute()`.  \n",
        "- **Concatenation and Stacking**: `torch.cat()` for joining along a dimension, `torch.stack()` for stacking along a new dimension.  \n",
        "- **In-place Operations**: Operations ending in `_` (e.g., `tensor.add_()`) modify the tensor directly.  \n",
        "\n",
        "### TODO: In the following section please update the **None** values with your answer in the subsequent codeblocks"
      ]
    },
    {
      "cell_type": "code",
      "execution_count": 5,
      "metadata": {
        "id": "vUOVI2BPJbWm"
      },
      "outputs": [
        {
          "name": "stdout",
          "output_type": "stream",
          "text": [
            "First row:  tensor([1., 1., 1., 1.])\n",
            "First column:  tensor([1., 1., 1., 1.])\n",
            "Last column: tensor([1., 1., 1., 1.])\n",
            "Updated tensor: tensor([[1., 0., 1., 1.],\n",
            "        [1., 0., 1., 1.],\n",
            "        [1., 0., 1., 1.],\n",
            "        [1., 0., 1., 1.]])\n"
          ]
        }
      ],
      "source": [
        "# ### Tensor Operations\n",
        "\n",
        "# TODO: Standard numpy-like indexing and slicing:\n",
        "tensor = torch.ones(4, 4)\n",
        "\n",
        "# TODO: print the first row of the tensor\n",
        "first_row = tensor[0]\n",
        "print('First row: ', first_row)\n",
        "\n",
        "# TODO: print the first column of the tensor\n",
        "first_column = tensor[:, 0]\n",
        "print('First column: ', first_column)\n",
        "\n",
        "# TODO: print the first column of the tensor\n",
        "last_column = tensor[:, -1]\n",
        "print('Last column:', last_column)\n",
        "\n",
        "# TODO: Update the tensor so that index 1 column is all zeros and print the tensor\n",
        "tensor[:, 1] = 0\n",
        "print('Updated tensor:', tensor )"
      ]
    },
    {
      "cell_type": "code",
      "execution_count": 6,
      "metadata": {
        "id": "7oxsQ6IieUqA"
      },
      "outputs": [
        {
          "name": "stdout",
          "output_type": "stream",
          "text": [
            "Sum: 21\n",
            "Mean: 3.5\n",
            "Max: 6\n",
            "Min: 1\n"
          ]
        }
      ],
      "source": [
        "# Reduction Operations\n",
        "\n",
        "tensor = torch.tensor([[1, 2, 3], [4, 5, 6]])\n",
        "\n",
        "# Summation\n",
        "tensor_sum = torch.sum(tensor) # TODO: Compute Sum of all elements in tensor\n",
        "print(f\"Sum: {tensor_sum}\")\n",
        "\n",
        "# Mean\n",
        "tensor_mean = torch.mean(tensor.float())  # TODO: Compute mean of all elements in tensor. Note: Use .float() for mean\n",
        "print(f\"Mean: {tensor_mean}\")\n",
        "\n",
        "# Max/Min\n",
        "tensor_max = torch.max(tensor) # TODO: Find Max element in tensor\n",
        "tensor_min = torch.min(tensor) # TODO: Find Min element in tensor\n",
        "print(f\"Max: {tensor_max}\")\n",
        "print(f\"Min: {tensor_min}\")\n"
      ]
    },
    {
      "cell_type": "code",
      "execution_count": 7,
      "metadata": {
        "id": "ZKj3Oq3hciS_"
      },
      "outputs": [
        {
          "name": "stdout",
          "output_type": "stream",
          "text": [
            "Original tensor shape: torch.Size([4, 4])\n",
            "Reshaped tensor shape: torch.Size([16])\n",
            "Reshaped tensor shape: torch.Size([2, 8])\n",
            "Original tensor shape: torch.Size([2, 3, 4])\n",
            "Permuted tensor shape: torch.Size([4, 2, 3])\n"
          ]
        }
      ],
      "source": [
        "# Reshaping\n",
        "\n",
        "x = torch.randn(4, 4)\n",
        "print(\"Original tensor shape:\", x.shape)\n",
        "y = x.view(-1)  # TODO: Reshape to a 1D tensor\n",
        "print(\"Reshaped tensor shape:\", y.shape)\n",
        "\n",
        "z = x.view(2, 8)  # TODO: Reshape to a 2x8 tensor\n",
        "print(\"Reshaped tensor shape:\", z.shape)\n",
        "\n",
        "\n",
        "# Permute (reorders dimensions)\n",
        "x = torch.randn(2, 3, 4)\n",
        "x_perm = x.permute(2, 0, 1) # TODO: Swap dimensions in order 2, 0, 1\n",
        "print(\"Original tensor shape:\", x.shape)\n",
        "print(\"Permuted tensor shape:\", x_perm.shape)\n"
      ]
    },
    {
      "cell_type": "code",
      "execution_count": 8,
      "metadata": {
        "id": "hceRsbDvJy6r"
      },
      "outputs": [
        {
          "name": "stdout",
          "output_type": "stream",
          "text": [
            "Row Concatenated Tensors: tensor([[0.8044, 0.5604, 0.6205, 0.7005],\n",
            "        [0.0639, 0.6574, 0.2682, 0.8794],\n",
            "        [0.5498, 0.3874, 0.9864, 0.9959],\n",
            "        [0.5169, 0.7226, 0.3739, 0.3882],\n",
            "        [0.1452, 0.9068, 0.5340, 0.6604],\n",
            "        [0.0987, 0.7109, 0.7348, 0.7892],\n",
            "        [0.6161, 0.4473, 0.6619, 0.0025],\n",
            "        [0.4711, 0.6278, 0.4431, 0.7606]])\n",
            "Column Concatenated Tensors: tensor([[0.8044, 0.5604, 0.6205, 0.7005, 0.1452, 0.9068, 0.5340, 0.6604],\n",
            "        [0.0639, 0.6574, 0.2682, 0.8794, 0.0987, 0.7109, 0.7348, 0.7892],\n",
            "        [0.5498, 0.3874, 0.9864, 0.9959, 0.6161, 0.4473, 0.6619, 0.0025],\n",
            "        [0.5169, 0.7226, 0.3739, 0.3882, 0.4711, 0.6278, 0.4431, 0.7606]])\n",
            "tensor([[[0.8044, 0.5604, 0.6205, 0.7005],\n",
            "         [0.0639, 0.6574, 0.2682, 0.8794],\n",
            "         [0.5498, 0.3874, 0.9864, 0.9959],\n",
            "         [0.5169, 0.7226, 0.3739, 0.3882]],\n",
            "\n",
            "        [[0.1452, 0.9068, 0.5340, 0.6604],\n",
            "         [0.0987, 0.7109, 0.7348, 0.7892],\n",
            "         [0.6161, 0.4473, 0.6619, 0.0025],\n",
            "         [0.4711, 0.6278, 0.4431, 0.7606]],\n",
            "\n",
            "        [[0.8971, 0.2183, 0.1685, 0.9506],\n",
            "         [0.3268, 0.7807, 0.6663, 0.6602],\n",
            "         [0.8457, 0.1084, 0.1565, 0.6654],\n",
            "         [0.7818, 0.8225, 0.2671, 0.0510]]])\n"
          ]
        }
      ],
      "source": [
        "tensor_one = torch.rand(4, 4)\n",
        "tensor_two = torch.rand(4, 4)\n",
        "# TODO: Concatenate tensor_one and tensor_two row wise\n",
        "row_concatenated_tensor = torch.cat((tensor_one, tensor_two), dim=0)\n",
        "print('Row Concatenated Tensors:', row_concatenated_tensor)\n",
        "\n",
        "# TODO: Concatenate tensor_one and tensor_two column wise\n",
        "col_concatenated_tensor = torch.cat((tensor_one, tensor_two), dim=1)\n",
        "print('Column Concatenated Tensors:', col_concatenated_tensor)\n",
        "\n",
        "tensor_three = torch.rand(4, 4)\n",
        "# TODO: Stack tensors one, two and three along the default dimension (dim=0)\n",
        "stacked_tensor = torch.stack((tensor_one, tensor_two, tensor_three))\n",
        "\n",
        "print(stacked_tensor)"
      ]
    },
    {
      "cell_type": "code",
      "execution_count": 9,
      "metadata": {
        "id": "60CmbBGmb0gj"
      },
      "outputs": [
        {
          "name": "stdout",
          "output_type": "stream",
          "text": [
            "\n",
            "In-place operations\n",
            "tensor([[1., 1., 1., 1.],\n",
            "        [1., 1., 1., 1.],\n",
            "        [1., 1., 1., 1.],\n",
            "        [1., 1., 1., 1.]]) \n",
            "\n",
            "Added five to  all values of tensor tensor([[6., 6., 6., 6.],\n",
            "        [6., 6., 6., 6.],\n",
            "        [6., 6., 6., 6.],\n",
            "        [6., 6., 6., 6.]])\n",
            "Subtract five to  all values of tensor tensor([[1., 1., 1., 1.],\n",
            "        [1., 1., 1., 1.],\n",
            "        [1., 1., 1., 1.],\n",
            "        [1., 1., 1., 1.]])\n"
          ]
        }
      ],
      "source": [
        "#In-place operations\n",
        "tensor = torch.ones(4, 4)\n",
        "print()\n",
        "print('In-place operations')\n",
        "print(tensor, \"\\n\")\n",
        "\n",
        "tensor = torch.ones(4,4)\n",
        "# TODO: Add 5 to all values of the\n",
        "tensor.add_(5)\n",
        "print('Added five to  all values of tensor', tensor)\n",
        "\n",
        "# TODO: Subtract 5 to all values of the\n",
        "tensor.sub_(5)\n",
        "print('Subtract five to  all values of tensor', tensor)"
      ]
    },
    {
      "cell_type": "code",
      "execution_count": 10,
      "metadata": {
        "id": "r8qxH-uyGaC4"
      },
      "outputs": [
        {
          "name": "stdout",
          "output_type": "stream",
          "text": [
            "Element wise multiplication: tensor([[0.1403, 0.5049, 0.2692, 0.0509],\n",
            "        [0.4591, 0.2156, 0.0291, 0.1975],\n",
            "        [0.4077, 0.0019, 0.1293, 0.1911],\n",
            "        [0.8498, 0.2428, 0.5478, 0.4254]])\n",
            "\n",
            "Dot product tensor: tensor([[1.1317, 0.5752, 0.7560, 1.0208],\n",
            "        [1.2092, 1.0166, 0.6877, 0.7118],\n",
            "        [1.7161, 1.0893, 1.0050, 1.1623],\n",
            "        [1.9919, 1.2616, 1.2346, 1.4481]])\n",
            "\n"
          ]
        }
      ],
      "source": [
        "# Multiplying tensors\n",
        "\n",
        "# TODO: Given two tensors, do an element wise multiplication\n",
        "# Hint: There is more than one way to do this\n",
        "tensor_one = torch.rand(4, 4)\n",
        "tensor_two = torch.rand(4, 4)\n",
        "\n",
        "element_wise_tensor = tensor_one * tensor_two\n",
        "print(\"Element wise multiplication:\", element_wise_tensor)\n",
        "print()\n",
        "\n",
        "# TODO: Compute the dot product of the two tensors\n",
        "# Hint: There is more than one way to do this\n",
        "dot_product_tensor = torch.matmul(tensor_one, tensor_two)\n",
        "print(\"Dot product tensor:\", dot_product_tensor)\n",
        "print()\n"
      ]
    },
    {
      "cell_type": "markdown",
      "metadata": {
        "id": "K85ZVnKXcnPG"
      },
      "source": [
        "### Section 1.4 Broadcasting\n",
        "Broadcasting in PyTorch is a useful feature that lets you perform operations on tensors of incompatible shapes without manually reshaping them. PyTorch automatically expands smaller tensors so their shapes are compatible for element-wise operations.\n",
        "\n",
        "You can read the details of these rules here: https://pytorch.org/docs/stable/notes/broadcasting.html\n",
        "\n",
        "\n",
        " In general you never need broadcasting as you can always be explicit with your tensor shapes. At first, broadcasting can feel like arbitrary rules but as you write more PyTorch you'll start to find them convienent particularly when working with training batches.\n",
        "\n",
        " Below we show some examples of broadcasting."
      ]
    },
    {
      "cell_type": "code",
      "execution_count": 11,
      "metadata": {
        "id": "iE8djsysaUgz"
      },
      "outputs": [
        {
          "name": "stdout",
          "output_type": "stream",
          "text": [
            "Broadcasting example 1:\n",
            " tensor([[11, 12],\n",
            "        [13, 14]])\n",
            "\n",
            "tensor([[11, 22],\n",
            "        [13, 24]])\n",
            "Broadcasting example 2:\n",
            " tensor([[11, 22],\n",
            "        [13, 24]])\n",
            "\n",
            "Broadcasting example 3:\n",
            " tensor([[10, 20, 30],\n",
            "        [20, 40, 60],\n",
            "        [30, 60, 90]])\n",
            "\n"
          ]
        }
      ],
      "source": [
        "# Broadcasting\n",
        "import torch\n",
        "# Example 1: Adding a scalar to a tensor\n",
        "tensor = torch.tensor([[1, 2], [3, 4]])  # shape (2, 2)\n",
        "scalar = torch.tensor(10)               # shape ()\n",
        "\n",
        "result = tensor + scalar  # Broadcasting scalar to shape (2, 2)\n",
        "# result: [[11, 12],\n",
        "#          [13, 14]]\n",
        "print(f\"Broadcasting example 1:\\n {result}\\n\")\n",
        "\n",
        "# Example 2: Adding a vector to a matrix (1D + 2D Tensor)\n",
        "a = torch.tensor([[1, 2], [3, 4]])  # shape (2, 2)\n",
        "b = torch.tensor([10, 20])         # shape (2,)\n",
        "\n",
        "result = a + b  # b is broadcast to shape (2, 2)\n",
        "print(result)\n",
        "# Output:\n",
        "# tensor([[11, 22],\n",
        "#         [13, 24]])\n",
        "print(f\"Broadcasting example 2:\\n {result}\\n\")\n",
        "\n",
        "# Example 3 — Column Vector + Matrix\n",
        "a = torch.tensor([[1], [2], [3]])  # shape (3, 1)\n",
        "b = torch.tensor([[10, 20, 30]])   # shape (1, 3)\n",
        "\n",
        "result = a * b  # a broadcast to (3, 3), b broadcast to (3, 3)\n",
        "print(f\"Broadcasting example 3:\\n {result}\\n\")\n",
        "# Output:\n",
        "# tensor([[10, 20, 30],\n",
        "#         [20, 40, 60],\n",
        "#         [30, 60, 90]])\n"
      ]
    },
    {
      "cell_type": "code",
      "execution_count": 12,
      "metadata": {
        "id": "tF-ehnUq5Fyt"
      },
      "outputs": [],
      "source": [
        "#Examples 4 - Mismatched Dimensions\n",
        "#a = torch.ones((2, 3))\n",
        "#b = torch.ones((3, 2))\n",
        "\n",
        "#result = a + b\n",
        "#print(f\"Broadcasting example 4:\\n {result}\\n\") # Will give a runtime error\n",
        "#\n"
      ]
    },
    {
      "cell_type": "markdown",
      "metadata": {
        "id": "ygoOUZyx1Q82"
      },
      "source": [
        "### TODO: Please answer the following questions.\n",
        "\n",
        "1) Predict the shape:\n",
        "\n",
        "    a = torch.ones((3, 1))\n",
        "    b = torch.ones((1, 4))\n",
        "    result = a + b\n",
        "\n",
        "Ans: (3, 4)\n",
        "\n",
        "2) Predict the shape:\n",
        "\n",
        "    a = torch.ones((2, 3))\n",
        "    b = torch.ones((2, 1))\n",
        "    result = a + b\n",
        "Ans: (2, 3)\n",
        "\n",
        "3) What is the output?\n",
        "\n",
        "    a = torch.tensor([[1], [2], [3]])  # shape (3, 1)\n",
        "    b = torch.tensor([10, 20])         # shape (2,)\n",
        "    result = a + b\n",
        "\n",
        "Ans: tensor([[11, 21], [12, 22], [13, 23]])\n",
        "\n",
        "4) Will the following code run? Please explain why or why not.\n",
        "    \n",
        "    \n",
        "    a = torch.ones((2, 2))\n",
        "    b = torch.ones((3, 1))\n",
        "\n",
        "    result = a + b\n",
        "\n",
        "Ans: No, it is a runtime error because (2, 2) and (3, 1) are incompatible for\n",
        "broadcasting. Since their outer dimensions differ, there is no way to align them. \n"
      ]
    },
    {
      "cell_type": "markdown",
      "metadata": {
        "id": "3NrFCWLuPSqR"
      },
      "source": [
        "## Section 2: Automatic Differentiaion with Logistic Regression\n",
        "\n",
        "In this section, we'll use logistic regression as an example to explain the entire flow of building and training a model. Logistic Regression was introduced in class, but we will now explore how it more detail. Specifically, we will build the model from scratch using PyTorch modules, and train it on our data using automatic differentiation. This process invloves implement implementing the model's forward pass, selecting the appropriate loss and optimizer components, and then writing a training loop to optimize the model relative to our dataset.\n",
        "\n",
        "**Note: There are no TODOs for Section 2 but it is critical you read, run, and understand this code or in order to understand what you need for Section 3 and future assignments.**\n",
        "\n",
        "### Iris Dataset\n",
        "\n",
        "To train our logistic regression model we will use a classic machine learning dataset - the Iris dataset. It containes 150 instances of iris flowers categorized by three species: Setosa, Versicolor, and Virginica. Each flower is describes by four numerical features:\n",
        "\n",
        "\n",
        "*   Sepal length (cm)\n",
        "*   Sepal width (cm)\n",
        "*   Petal length (cm)\n",
        "*   Petal width (cm)"
      ]
    },
    {
      "cell_type": "code",
      "execution_count": 13,
      "metadata": {
        "id": "KAvnSFsLRieZ"
      },
      "outputs": [],
      "source": [
        "import math\n",
        "import torch\n",
        "import torch.nn as nn\n",
        "import torch.optim as optim\n",
        "from torch.utils.data import Dataset, DataLoader\n",
        "import pandas as pd\n",
        "import requests\n",
        "import os\n",
        "from sklearn.preprocessing import LabelEncoder, StandardScaler\n",
        "from sklearn.datasets import load_iris\n",
        "from sklearn.model_selection import train_test_split\n",
        "\n",
        "csv_path = \"iris.csv\""
      ]
    },
    {
      "cell_type": "markdown",
      "metadata": {
        "id": "3xqmZhpalo23"
      },
      "source": [
        "### Section 2.1 `Dataset` and `DataLoader`\n",
        "\n",
        "In deep learning, handling large datasets efficiently is crucial. During training, doing gradient calculations on an entire large dataset can be time consuming. So a better way to handle large datasets is to divide samples into smaller batches and do the calculations individually. PyTorch provides `Dataset` and `DataLoader` to streamline this process:\n",
        "\n",
        "- **`Dataset` Class**: Helps organize and preprocess data by defining how to load samples. It enables transformations, label encoding, and normalization before passing data to a model.\n",
        "- **`DataLoader` Class**: Manages batch loading, shuffling, and parallel processing, optimizing data feeding into the training loop.\n",
        "\n",
        "This structured approach organizes your code, improves performance, and ensures smooth model training, especially for large datasets."
      ]
    },
    {
      "cell_type": "code",
      "execution_count": 14,
      "metadata": {
        "id": "-0xknXOypejw"
      },
      "outputs": [],
      "source": [
        "class IrisDataset(Dataset):\n",
        "    def __init__(self, X, y):\n",
        "        \"\"\"\n",
        "        Initialize the IrisDataset.\n",
        "\n",
        "        Args:\n",
        "            X (dtype -- numpy.ndarray): Features (sepal length, sepal width, petal length, petal width)\n",
        "            y (dtype -- numpy.ndarray): Target (species)\n",
        "        \"\"\"\n",
        "        # We first convert the features ad labels to pytorch tensors\n",
        "        # We convert feature data (X) to float32 data type as PyTorch models (like nn.Linear) expect this format.\n",
        "        # We convert target data (y) to int64 data type to ensure compatibility with PyTorch's loss functions.\n",
        "        self.x = torch.from_numpy(X.astype(np.float32))\n",
        "        self.y = torch.from_numpy(y.astype(np.int64))\n",
        "\n",
        "        # Store the number of samples in the dataset\n",
        "        self.n_samples = X.shape[0]\n",
        "\n",
        "    def __getitem__(self, index):\n",
        "        # Allows for indexing. For example, we can do dataset[0]\n",
        "        return self.x[index], self.y[index]\n",
        "\n",
        "    def __len__(self):\n",
        "        # Allows us to call len(dataset)\n",
        "        return self.n_samples"
      ]
    },
    {
      "cell_type": "markdown",
      "metadata": {
        "id": "u6HIgIP9bP0P"
      },
      "source": [
        "We will now load the dataset, preprocess it and create instances of the dataset."
      ]
    },
    {
      "cell_type": "code",
      "execution_count": 15,
      "metadata": {
        "id": "pbSVlY8ga6Ts"
      },
      "outputs": [
        {
          "name": "stdout",
          "output_type": "stream",
          "text": [
            "Training set: (120, 4), Testing set: (30, 4)\n"
          ]
        }
      ],
      "source": [
        "# Define the column names for the dataset\n",
        "column_names = [\"SepalLength\", \"SepalWidth\", \"PetalLength\", \"PetalWidth\", \"Species\"]\n",
        "\n",
        "# Load the data from the CSV file (above cells) into a Pandas DataFrame\n",
        "data = pd.read_csv(csv_path, names=column_names, header=0)\n",
        "\n",
        "# Encode the species target (categorical data) into numerical values\n",
        "# 0 -> Iris-setosa\n",
        "# 1 -> Iris-setosa\n",
        "# 2 -> Iris-virginica\n",
        "label_encoder = LabelEncoder()\n",
        "data[\"Species\"] = label_encoder.fit_transform(data[\"Species\"])\n",
        "\n",
        "# Seperate out the columns into features (all columns except the last one) and target (the last column)\n",
        "features = [\"SepalLength\", \"SepalWidth\", \"PetalLength\", \"PetalWidth\"]\n",
        "\n",
        "# Split dataset into features (X) and target (y)\n",
        "X = data[features].values  # Features\n",
        "y = data[\"Species\"].values   # Target\n",
        "y = y.flatten() # This ensures that out targets are a 1D array -- our loss function will require this!\n",
        "\n",
        "# Split dataset into training and testing sets using train_test_split -- We are using 20% of the samples as test data\n",
        "X_train, X_test, y_train, y_test = train_test_split(X, y, test_size=0.2, random_state=42)\n",
        "\n",
        "print(f\"Training set: {X_train.shape}, Testing set: {X_test.shape}\")"
      ]
    },
    {
      "cell_type": "code",
      "execution_count": 16,
      "metadata": {
        "id": "9OFw_XxTrW2K"
      },
      "outputs": [],
      "source": [
        "# Create datasets\n",
        "train_dataset = IrisDataset(X_train, y_train)\n",
        "test_dataset = IrisDataset(X_test, y_test)\n",
        "\n",
        "# Create DataLoader\n",
        "train_loader = DataLoader(dataset=train_dataset, batch_size=16, shuffle=True)\n",
        "test_loader = DataLoader(dataset=test_dataset, batch_size=16, shuffle=False)"
      ]
    },
    {
      "cell_type": "markdown",
      "metadata": {
        "id": "zEClxYsGf4tF"
      },
      "source": [
        "### Section 2.2 Create a LogisticRegression Module\n",
        "\n",
        "Logistic regression is a simple yet effective classification algorithm that applies a linear transformation to input features and uses a softmax activation to predict class probabilities. To help you get started, we are providing demo/sample code for a logistic regression implementation. This will give you a basic structure to build upon as you develop your understanding of logistic regression.\n",
        "\n",
        "In this section, we will create a simple logistic regression class using PyTorch's nn.Linear layer."
      ]
    },
    {
      "cell_type": "code",
      "execution_count": 17,
      "metadata": {
        "id": "C6JS7MgdgTse"
      },
      "outputs": [],
      "source": [
        "import torch\n",
        "import torch.nn as nn\n",
        "\n",
        "# Logistic Regression Model\n",
        "class LogisticRegression(nn.Module):\n",
        "    def __init__(self, input_dim, num_classes):\n",
        "        super(LogisticRegression, self).__init__()\n",
        "        # Define a single fully connected layer with a bias (linear transformation)\n",
        "        # This maps input features (input_dim) to output classes (num_classes)\n",
        "        self.linear = nn.Linear(input_dim, num_classes)\n",
        "\n",
        "    def forward(self, x):\n",
        "        # Forward pass: Apply the linear transformation to input data\n",
        "        # Note: We do not use an activation function here because\n",
        "        # PyTorch's CrossEntropyLoss automatically applies softmax\n",
        "        return self.linear(x)"
      ]
    },
    {
      "cell_type": "markdown",
      "metadata": {
        "id": "rL7vtXodofjI"
      },
      "source": [
        "### Section 2.3 Create Our Model and Components\n",
        "\n",
        "Now that we have defined our logistic regression class, we need to train it on our dataset. PyTorch provides many pre-built implementations of common deep learning components to make this relatively easy to do. However, a lot is happening behind the scenes so let's break it down."
      ]
    },
    {
      "cell_type": "code",
      "execution_count": 18,
      "metadata": {
        "id": "hFMiGST5kU08"
      },
      "outputs": [
        {
          "name": "stdout",
          "output_type": "stream",
          "text": [
            "LogisticRegression(\n",
            "  (linear): Linear(in_features=4, out_features=3, bias=True)\n",
            ")\n"
          ]
        }
      ],
      "source": [
        "# Get the number of features and classes\n",
        "input_dim = 4  # Number of features -- You can automatically determine from the data using `X_train.shape[1]`\n",
        "num_classes = 3  # Number of categories in dataset -- You can automatically determine from the data using `len(np.unique(y))`\n",
        "\n",
        "# Initialize model, loss function, and optimizer\n",
        "model = LogisticRegression(input_dim, num_classes)  # Create an instance of our logistic regression model\n",
        "criterion = nn.CrossEntropyLoss()  # Loss function for multi-class classification\n",
        "optimizer = optim.SGD(model.parameters(), lr=0.01)  # Stochastic Gradient Descent optimizer with a learning rate of 0.01\n",
        "\n",
        "# Let's see what model we initialized\n",
        "print(model)  # This prints the structure of our model"
      ]
    },
    {
      "cell_type": "markdown",
      "metadata": {
        "id": "OQRVSwtB85vw"
      },
      "source": [
        "Above, we initialize an instance of the logistic regression model we just created. We also define a loss/objective function to measure how well the model is performing and an optimizer to update the model's parameters based on gradients computed during backpropagation.\n",
        "\n",
        "We use a PyTorch built-in for the loss function and optimizer which are similiar to the squared error loss and gradient descent alogirthms we discussed in lecture. Cross Entropy is a loss with better properties for classification and will make our training more smooth and consistent. While \"Stochastic\" Gradient Descent is the gradient descent we've seen but implies a single training datapoint is used instead of all the datapoints (more on this later). In practice, it's common to use these built-ins instead of writing them from scratch, but PyTorch makes it relatively easy to extend and define your own if you want to create a custom loss function or optimization algorithm. Notice how we take the `parameters()` of the model and provide them to our optimizer. This tells the optimization algorithm which tensors need to updated on each iteration of our training."
      ]
    },
    {
      "cell_type": "markdown",
      "metadata": {
        "id": "LSwiacl6NK4o"
      },
      "source": [
        "### Section 2.4 The Training Loop\n",
        "\n",
        "**Note: If you've been skimming the prior sections be sure to slow down and understand this one in detail. This content is incredibly important and likely to show up on an exam.**\n",
        "\n",
        "Now, we will see the power of PyTorch with *automatic differentiation.* In the background PyTorch tracks all of the operations performed on any tensor that you create and builds a computational graph which tracks the influence of each operation on downstream values. This tracking occurs *across* variable assignments so the graph is reflective of your entire program from input tensor to final output tensor. In deep learning, the final tensor is usually your computed loss for a subset (batch) of the training data. Then with a single call to the `backward()` routine **the entire backpropagation algorithm is run** to compute the gradients for the computation graph. Below, we put everything together: the model, training components, dataloader, etc. Read through the code and run it, then we will break it down.\n",
        "\n",
        "A few terms will be helpful before we move forward:\n",
        "\n",
        "* **epoch**: One complete forward and backward pass of all samples in the training set.\n",
        "\n",
        "* **batch_size**: The number of training samples in a single forward and backward pass.\n",
        "\n",
        "* **number of iterations**: The total number of passes, where each pass processes batch_size number of samples.\n",
        "\n",
        "For example, if we have 100 samples and set `batch_size = 20`, then `100 / 20 = 5` iterations are needed for one complete epoch."
      ]
    },
    {
      "cell_type": "code",
      "execution_count": 19,
      "metadata": {
        "id": "IbVSwajKhWA6"
      },
      "outputs": [
        {
          "name": "stdout",
          "output_type": "stream",
          "text": [
            "Epoch [10/100], Loss: 0.6924\n",
            "Epoch [20/100], Loss: 0.4679\n",
            "Epoch [30/100], Loss: 0.3282\n",
            "Epoch [40/100], Loss: 0.4497\n",
            "Epoch [50/100], Loss: 0.6465\n",
            "Epoch [60/100], Loss: 0.3977\n",
            "Epoch [70/100], Loss: 0.4993\n",
            "Epoch [80/100], Loss: 0.2586\n",
            "Epoch [90/100], Loss: 0.4750\n",
            "Epoch [100/100], Loss: 0.3565\n"
          ]
        }
      ],
      "source": [
        "# Training loop\n",
        "num_epochs = 100  # Number of times the entire dataset is passed through the model\n",
        "for epoch in range(num_epochs):\n",
        "    # We loop over train_loader to process batches efficiently\n",
        "    for i, (inputs, labels) in enumerate(train_loader):\n",
        "        # Forward pass: Compute model predictions\n",
        "        outputs = model(inputs)  # Pass inputs through the model\n",
        "        loss = criterion(outputs, labels)  # Compute loss between predictions and actual labels\n",
        "\n",
        "        # Backward pass and optimization\n",
        "        optimizer.zero_grad()  # Reset gradients to zero before backpropagation\n",
        "        loss.backward()  # Compute gradients of the loss with respect to model parameters\n",
        "        optimizer.step()  # Update model parameters using computed gradients\n",
        "\n",
        "    # Print loss every 10 epochs to monitor training progress\n",
        "    if (epoch + 1) % 10 == 0:\n",
        "        print(f'Epoch [{epoch+1}/{num_epochs}], Loss: {loss.item():.4f}')  # Print epoch number and current loss value"
      ]
    },
    {
      "cell_type": "markdown",
      "metadata": {
        "id": "6js-HaZ10atF"
      },
      "source": [
        "The first few lines are boilerplate which set up our training loop and call our `Dataloader` that we created earlier to get a *batch* of the data. In class, we showed how each iteration of gradient descent updated the model parameters for all the training datapoints. Often in practice, our machine does not have enough memory to do this (particularly for big models and large datasets). So we instead *estimate* the true gradient with a subset of the data (batch) and update our parameters incrementally. Confusingly, this is referred to as **mini-batch gradident descent** in contrast to using *all* training datapoints, which is **batch gradient descent.** There are theoretical implications of doing one versus the other which is why people distinguish, so to summarize:\n",
        "\n",
        "| Term                       | Description                                                                 |\n",
        "|----------------------------|-----------------------------------------------------------------------------|\n",
        "| Batch Gradient Descent     | Uses **all** training data to compute the gradient and update parameters.   |\n",
        "| Mini-Batch Gradient Descent| Uses a **subset** (mini-batch) of the training data to estimate the gradient. |\n",
        "| Stochastic Gradient Descent| Uses **one** training example at a time to estimate the gradient.           |\n",
        "\n",
        "The next couple lines call our model on the training batch and compute the loss for this batch. The three lines that follow are crucial:\n",
        "\n",
        "```python\n",
        "optimizer.zero_grad()\n",
        "loss.backward()\n",
        "optimizer.step()\n",
        "```\n",
        "The first line does nothing on the first iteration, but on subsequent iterations clears out the gradients computed on the previous batch. The next line performs backpropagation to compute the gradients for the current batch which are accumulated on each of the models' individual parameters. In the next line the optimizer computes the updates for each of these parameters relative to the gradients and applies them to each parameter of our model (recall we connected them earlier when we initialized the optimizer).\n",
        "\n",
        "In summary, the training process involves repeatedly passing the training data through the model, computing the loss, calculating gradients, and updating the model parameters. This training loop iterates over the dataset multiple times, adjusting the model's parameters to minimize the loss. By following this structure, you can train a logistic regression model to classify iris flowers based on their features. Each epoch represents a full pass through the dataset, and the optimizer updates the weights in a way that reduces the classification error over time. This iterative process helps the model learn the optimal weights for making predictions relative to the training data."
      ]
    },
    {
      "cell_type": "markdown",
      "metadata": {
        "id": "QS1uLn60nQO9"
      },
      "source": [
        "# Section 3: Creating a Multi-Layer Perceptron Using the Titanic dataset\n",
        "In the previous sections, we reviewed the basics of PyTorch from creating tensors to creating a basic model. In this section, we will ask you to put it all together. We will ask you train a multi-layer perceptron to perform classification on the titanic dataset. We will ask you to do some data cleaning, create a model, train and test the model, do some experimentation and present the results.\n",
        "\n",
        "\n",
        "## Titanic Dataset\n",
        "The Titanic dataset is a dataset containing information of the passengers of the RMS Titanic, a British passanger ship which famously sunk upon hitting an iceberg. The dataset can be used for binary classification, predicting whether a passenger survived or not.  The dataset includes demographic, socio-economic, and onboard information such as:\n",
        "\n",
        "\n",
        "- Survived (Target Variable): 0 = No, 1 = Yes\n",
        "- Pclass (Passenger Class): 1st, 2nd, or 3rd class\n",
        "- Sex: Male or Female\n",
        "- Age: Passenger's age in years\n",
        "- SibSp: Number of siblings/spouses aboard\n",
        "- Parch: Number of parents/children aboard\n",
        "- Fare: Ticket fare price\n",
        "- Embarked: Port of embarkation (C = Cherbourg, Q = Queenstown, S = Southampton)\n",
        "\n"
      ]
    },
    {
      "cell_type": "code",
      "execution_count": 20,
      "metadata": {
        "id": "DzKPNapBVW-v"
      },
      "outputs": [],
      "source": [
        "import torch\n",
        "import torch.nn as nn\n",
        "import torch.optim as optim\n",
        "from torch.utils.data import Dataset, DataLoader\n",
        "import pandas as pd\n",
        "import numpy as np\n",
        "from sklearn.model_selection import train_test_split\n",
        "from sklearn.preprocessing import StandardScaler, LabelEncoder\n",
        "import matplotlib.pyplot as plt\n"
      ]
    },
    {
      "cell_type": "code",
      "execution_count": 21,
      "metadata": {
        "id": "TlscqXNBd17b"
      },
      "outputs": [
        {
          "name": "stdout",
          "output_type": "stream",
          "text": [
            "   PassengerId  Survived  Pclass  \\\n",
            "0            1         0       3   \n",
            "1            2         1       1   \n",
            "2            3         1       3   \n",
            "3            4         1       1   \n",
            "4            5         0       3   \n",
            "\n",
            "                                                Name     Sex   Age  SibSp  \\\n",
            "0                            Braund, Mr. Owen Harris    male  22.0      1   \n",
            "1  Cumings, Mrs. John Bradley (Florence Briggs Th...  female  38.0      1   \n",
            "2                             Heikkinen, Miss. Laina  female  26.0      0   \n",
            "3       Futrelle, Mrs. Jacques Heath (Lily May Peel)  female  35.0      1   \n",
            "4                           Allen, Mr. William Henry    male  35.0      0   \n",
            "\n",
            "   Parch            Ticket     Fare Cabin Embarked  \n",
            "0      0         A/5 21171   7.2500   NaN        S  \n",
            "1      0          PC 17599  71.2833   C85        C  \n",
            "2      0  STON/O2. 3101282   7.9250   NaN        S  \n",
            "3      0            113803  53.1000  C123        S  \n",
            "4      0            373450   8.0500   NaN        S  \n"
          ]
        }
      ],
      "source": [
        "df = pd.read_csv(\"titanic.csv\")\n",
        "\n",
        "print(df.head())"
      ]
    },
    {
      "cell_type": "markdown",
      "metadata": {
        "id": "lhg1dBCFtatI"
      },
      "source": [
        "### Section 3.1: Process data for modeling"
      ]
    },
    {
      "cell_type": "code",
      "execution_count": 22,
      "metadata": {
        "id": "U0vmFWcXspVj"
      },
      "outputs": [
        {
          "name": "stdout",
          "output_type": "stream",
          "text": [
            "Training set: (712, 7), Testing set: (179, 7)\n"
          ]
        }
      ],
      "source": [
        "# TODO : Handle missing values for \"Age\" and \"Embarked\"\n",
        "df[\"Age\"] = df[\"Age\"].fillna(df[\"Age\"].median())\n",
        "df[\"Embarked\"] = df[\"Embarked\"].fillna(df[\"Embarked\"].mode()[0])\n",
        "# TODO: Encode categorical features \"Sex\" and \"Embarked\"\n",
        "# Hint: Use LabelEncoder (check imports)\n",
        "label_encoder_sex = LabelEncoder()\n",
        "label_encoder_embarked = LabelEncoder()\n",
        "df[\"Sex\"] = label_encoder_sex.fit_transform(df[\"Sex\"])\n",
        "df[\"Embarked\"] = label_encoder_embarked.fit_transform(df[\"Embarked\"])\n",
        "# TODO: Select features and target\n",
        "features = [\"Pclass\", \"Sex\", \"Age\", \"SibSp\", \"Parch\", \"Fare\", \"Embarked\"]\n",
        "X = df[features].values\n",
        "y = df[\"Survived\"].values\n",
        "# TODO: Normalize numerical features in X\n",
        "# Hint: Use StandardScaler()\n",
        "scaler = StandardScaler()\n",
        "X = scaler.fit_transform(X)\n",
        "# Split dataset\n",
        "X_train, X_test, y_train, y_test = train_test_split(X, y, test_size=0.2, random_state=42)\n",
        "\n",
        "print(f\"Training set: {X_train.shape}, Testing set: {X_test.shape}\")\n"
      ]
    },
    {
      "cell_type": "markdown",
      "metadata": {
        "id": "ErqCEhnbtk3q"
      },
      "source": [
        "### Section 3.2 Create a Dataset Class with the Previous Dataset"
      ]
    },
    {
      "cell_type": "code",
      "execution_count": 23,
      "metadata": {
        "id": "iyzpNdidVN9L"
      },
      "outputs": [],
      "source": [
        "class TitanicDataset(Dataset):\n",
        "    def __init__(self, X, y):\n",
        "        # TODO: initialize X, y as tensors\n",
        "        self.X = torch.tensor(X, dtype=torch.float32)\n",
        "        self.y = torch.tensor(y, dtype=torch.float32)\n",
        "\n",
        "    def __len__(self):\n",
        "        return len(self.X)\n",
        "\n",
        "    def __getitem__(self, index):\n",
        "        return self.X[index], self.y[index]\n",
        "\n",
        "# TODO: Instantiate the dataset classes\n",
        "train_dataset = TitanicDataset(X_train, y_train)\n",
        "test_dataset = TitanicDataset(X_test, y_test)\n",
        "\n",
        "# TODO: Create Dataloaders using the datasets\n",
        "train_loader = DataLoader(train_dataset, batch_size=32, shuffle=True)\n",
        "test_loader = DataLoader(test_dataset, batch_size=32, shuffle=False)\n"
      ]
    },
    {
      "cell_type": "markdown",
      "metadata": {
        "id": "AmQVqXHkuS2q"
      },
      "source": [
        "### Section 3.3 Create a MLP class\n",
        "In this section we will create a multi-layer perceptron with the following specification.\n",
        "We will have a total of three fully connected layers.\n",
        "\n",
        "\n",
        "1.   Fully Connected Layer of size (7, 64) followed by ReLU\n",
        "2.   Full Connected Layer of Size (64, 32) followed by ReLU\n",
        "3. Full Connected Layer of Size (32, 1) followed by Sigmoid"
      ]
    },
    {
      "cell_type": "code",
      "execution_count": 24,
      "metadata": {
        "id": "dnAEHi5QVp0k"
      },
      "outputs": [
        {
          "name": "stdout",
          "output_type": "stream",
          "text": [
            "TitanicMLP(\n",
            "  (model): Sequential(\n",
            "    (0): Linear(in_features=7, out_features=64, bias=True)\n",
            "    (1): ReLU()\n",
            "    (2): Linear(in_features=64, out_features=32, bias=True)\n",
            "    (3): ReLU()\n",
            "    (4): Linear(in_features=32, out_features=1, bias=True)\n",
            "    (5): Sigmoid()\n",
            "  )\n",
            ")\n"
          ]
        }
      ],
      "source": [
        "class TitanicMLP(nn.Module):\n",
        "    def __init__(self):\n",
        "        super(TitanicMLP, self).__init__()\n",
        "        # TODO: Define Layers\n",
        "        self.model = nn.Sequential(\n",
        "            nn.Linear(7, 64),\n",
        "            nn.ReLU(),\n",
        "            nn.Linear(64, 32),\n",
        "            nn.ReLU(),\n",
        "            nn.Linear(32, 1),\n",
        "            nn.Sigmoid()\n",
        "        )\n",
        "\n",
        "    def forward(self, x):\n",
        "        return self.model(x)\n",
        "    \n",
        "model = TitanicMLP()\n",
        "print(model)\n",
        "\n",
        "# TODO: Move the model to GPU if possible\n",
        "# I have a mac, would be possible but requires quite a bit of additional setup\n"
      ]
    },
    {
      "cell_type": "markdown",
      "metadata": {
        "id": "FfFKYNlj2Bhg"
      },
      "source": [
        "### Section 3.4 : Writing a training and testing loops"
      ]
    },
    {
      "cell_type": "code",
      "execution_count": 25,
      "metadata": {
        "id": "0yRL8RJoVyxR"
      },
      "outputs": [
        {
          "name": "stdout",
          "output_type": "stream",
          "text": [
            "Epoch [1/20], Loss: 0.6525\n",
            "Epoch [2/20], Loss: 0.5731\n",
            "Epoch [3/20], Loss: 0.5066\n",
            "Epoch [4/20], Loss: 0.4468\n",
            "Epoch [5/20], Loss: 0.4417\n",
            "Epoch [6/20], Loss: 0.4217\n",
            "Epoch [7/20], Loss: 0.4221\n",
            "Epoch [8/20], Loss: 0.4269\n",
            "Epoch [9/20], Loss: 0.4197\n",
            "Epoch [10/20], Loss: 0.4082\n",
            "Epoch [11/20], Loss: 0.4139\n",
            "Epoch [12/20], Loss: 0.4048\n",
            "Epoch [13/20], Loss: 0.4002\n",
            "Epoch [14/20], Loss: 0.4000\n",
            "Epoch [15/20], Loss: 0.4027\n",
            "Epoch [16/20], Loss: 0.3849\n",
            "Epoch [17/20], Loss: 0.3957\n",
            "Epoch [18/20], Loss: 0.3887\n",
            "Epoch [19/20], Loss: 0.3958\n",
            "Epoch [20/20], Loss: 0.3841\n"
          ]
        },
        {
          "data": {
            "image/png": "[encoded data removed]",
            "text/plain": [
              "<Figure size 640x480 with 1 Axes>"
            ]
          },
          "metadata": {},
          "output_type": "display_data"
        }
      ],
      "source": [
        "def train_model(train_loader, num_epochs, learning_rate):\n",
        "  # we have provided the loss and optimizer below\n",
        "  criterion = nn.BCELoss()\n",
        "  optimizer = optim.Adam(model.parameters(), lr=learning_rate)\n",
        "\n",
        "  train_losses = []\n",
        "\n",
        "  for epoch in range(num_epochs):\n",
        "      total_loss = 0\n",
        "      # TODO: Compute the Gradient and Loss by iterating train_loader\n",
        "      for inputs, labels in train_loader:\n",
        "        inputs = inputs.to(device)\n",
        "        labels = labels.to(device).unsqueeze(1)  # reshape to (batch_size, 1)\n",
        "        outputs = model(inputs)\n",
        "        loss = criterion(outputs, labels)\n",
        "        optimizer.zero_grad()\n",
        "        loss.backward()\n",
        "        optimizer.step()\n",
        "        total_loss += loss.item()\n",
        "      avg_loss = total_loss / len(train_loader)\n",
        "      train_losses.append(avg_loss)\n",
        "      # TODO: Print and store loss at each epoch\n",
        "      print(f\"Epoch [{epoch+1}/{num_epochs}], Loss: {avg_loss:.4f}\")\n",
        "  return train_losses\n",
        "\n",
        "num_epochs = 20\n",
        "learning_rate = 0.001\n",
        "train_losses = train_model(train_loader, num_epochs, learning_rate)\n",
        "\n",
        "# TODO: Plot the Training Loss Curve by (Epoch # on x-axis and loss on y-axis)\n",
        "plt.plot(range(1, num_epochs + 1), train_losses)\n",
        "plt.xlabel(\"Epoch\")\n",
        "plt.ylabel(\"Loss\")\n",
        "plt.title(\"Training Loss Curve\")\n",
        "plt.grid(True)\n",
        "plt.show()\n",
        "\n"
      ]
    },
    {
      "cell_type": "code",
      "execution_count": 26,
      "metadata": {
        "id": "krHbZGHlV5VV"
      },
      "outputs": [
        {
          "name": "stdout",
          "output_type": "stream",
          "text": [
            "Test Accuracy: 81.56%\n"
          ]
        }
      ],
      "source": [
        "def test_model():\n",
        "  correct = 0\n",
        "  total = 0\n",
        "\n",
        "  # When we are doing inference on a model, we do not need to keep track of gradients\n",
        "  # torch.no_grad() indicates to pytorch to not store gradients for more efficent inference\n",
        "  with torch.no_grad():  # No gradient tracking for evaluation\n",
        "    # TODO: Iterate through test_loader and perform a forward pass to compute predictions\n",
        "    for inputs, labels in test_loader:\n",
        "      inputs = inputs.to(device)\n",
        "      labels = labels.to(device).unsqueeze(1)\n",
        "\n",
        "      outputs = model(inputs)\n",
        "      predicted = (outputs >= 0.5).float()  # Apply threshold\n",
        "\n",
        "      correct += (predicted == labels).sum().item()\n",
        "      total += labels.size(0)\n",
        "  print(f\"Test Accuracy: {100 * correct / total:.2f}%\")\n",
        "test_model()"
      ]
    },
    {
      "cell_type": "markdown",
      "metadata": {
        "id": "UC1Ac-rR4TdZ"
      },
      "source": [
        "### Section 3.5: Hyperparameter Tuning\n",
        "This section is open-ended. We want you to experiment with different setting for training such as the learning rate, using a different optimizer, and using different MLP architecture. Report how you went about hyper-paramater tuning and provide the code with comments. Then provide a table with settings that you experimented with. The table should present 5 different setting with which you trained the architecture. Finally, write up a brief analysis on your findings.\n"
      ]
    },
    {
      "cell_type": "code",
      "execution_count": 27,
      "metadata": {
        "id": "-oHqFfJDWCkK"
      },
      "outputs": [
        {
          "data": {
            "text/plain": [
              "[82.12290502793296,\n",
              " 81.56424581005587,\n",
              " 81.56424581005587,\n",
              " 77.09497206703911,\n",
              " 82.68156424581005]"
            ]
          },
          "execution_count": 27,
          "metadata": {},
          "output_type": "execute_result"
        }
      ],
      "source": [
        "# TODO: Hyper parameter code\n",
        "def run_experiment(hidden_layers=[64, 32], lr=0.001, optimizer_type='adam', batch_size=32, num_epochs=20):\n",
        "    # Build model dynamically based on hidden_layers\n",
        "    layers = []\n",
        "    input_size = 7\n",
        "    for hidden_size in hidden_layers:\n",
        "        layers.append(nn.Linear(input_size, hidden_size))\n",
        "        layers.append(nn.ReLU())\n",
        "        input_size = hidden_size\n",
        "    layers.append(nn.Linear(input_size, 1))\n",
        "    layers.append(nn.Sigmoid())\n",
        "\n",
        "    model = nn.Sequential(*layers)\n",
        "\n",
        "    # Dataset and DataLoader\n",
        "    train_dataset = TitanicDataset(X_train, y_train)\n",
        "    test_dataset = TitanicDataset(X_test, y_test)\n",
        "    train_loader = DataLoader(train_dataset, batch_size=batch_size, shuffle=True)\n",
        "    test_loader = DataLoader(test_dataset, batch_size=batch_size, shuffle=False)\n",
        "\n",
        "    # Loss and Optimizer\n",
        "    criterion = nn.BCELoss()\n",
        "    if optimizer_type == 'adam':\n",
        "        optimizer = optim.Adam(model.parameters(), lr=lr)\n",
        "    elif optimizer_type == 'sgd':\n",
        "        optimizer = optim.SGD(model.parameters(), lr=lr)\n",
        "    else:\n",
        "        raise ValueError(\"Unsupported optimizer\")\n",
        "\n",
        "    # Training loop\n",
        "    model.train()\n",
        "    for epoch in range(num_epochs):\n",
        "        for inputs, labels in train_loader:\n",
        "            labels = labels.unsqueeze(1)\n",
        "            outputs = model(inputs)\n",
        "            loss = criterion(outputs, labels)\n",
        "            optimizer.zero_grad()\n",
        "            loss.backward()\n",
        "            optimizer.step()\n",
        "\n",
        "    # Evaluation\n",
        "    model.eval()\n",
        "    correct, total = 0, 0\n",
        "    with torch.no_grad():\n",
        "        for inputs, labels in test_loader:\n",
        "            labels = labels.unsqueeze(1)\n",
        "            preds = (model(inputs) >= 0.5).float()\n",
        "            correct += (preds == labels).sum().item()\n",
        "            total += labels.size(0)\n",
        "\n",
        "    accuracy = 100 * correct / total\n",
        "    return accuracy\n",
        "acc1 = run_experiment(hidden_layers=[64, 32], lr=0.001, optimizer_type='adam', batch_size=32)\n",
        "acc2 = run_experiment(hidden_layers=[128, 64], lr=0.001, optimizer_type='adam', batch_size=32)\n",
        "acc3 = run_experiment(hidden_layers=[64, 32, 16], lr=0.0005, optimizer_type='adam', batch_size=32)\n",
        "acc4 = run_experiment(hidden_layers=[64, 32], lr=0.01, optimizer_type='sgd', batch_size=32)\n",
        "acc5 = run_experiment(hidden_layers=[64, 32], lr=0.001, optimizer_type='adam', batch_size=64)\n",
        "[acc1, acc2, acc3, acc4, acc5]"
      ]
    },
    {
      "cell_type": "markdown",
      "metadata": {
        "id": "3vaKzcze5Nru"
      },
      "source": [
        "Please explain your hyper-parameter tuning:\n",
        "To perform hyperparameter tuning, I wrote a reusable experiment function that allowed me to change various aspects of the model such as hidden layer sizes, learning rate, optimizer, and batch size. I kept the training epochs fixed at 20 for consistency and changed only one or two parameters at a time so I could clearly see the impact of each. My goal was to understand how these parameters affected accuracy on the Titanic dataset. I began with the baseline model from Section 3.3 and incrementally modified the architecture and training configuration across five different trials."
      ]
    },
    {
      "cell_type": "markdown",
      "metadata": {
        "id": "CoZ329QS5g3H"
      },
      "source": [
        "Please provide a table with 5 settings:\n",
        "\n",
        "| Trial | Hidden Layer Sizes | Learning Rate | Optimizer | Batch Size | Epochs | Test Accuracy |\n",
        "|-------|--------------------|---------------|-----------|------------|--------|----------------|\n",
        "| 1     | [64, 32]           | 0.001         | Adam      | 32         | 20     | 82.68%         |\n",
        "| 2     | [128, 64]          | 0.001         | Adam      | 32         | 20     | 81.01%         |\n",
        "| 3     | [64, 32, 16]       | 0.0005        | Adam      | 32         | 20     | 79.33%         |\n",
        "| 4     | [64, 32]           | 0.01          | SGD       | 32         | 20     | 78.77%         |\n",
        "| 5     | [64, 32]           | 0.001         | Adam      | 64         | 20     | 81.01%         |\n",
        "\n"
      ]
    },
    {
      "cell_type": "markdown",
      "metadata": {
        "id": "MNz-Mq_K5pSq"
      },
      "source": [
        "Please provide your analysis here:\n",
        "The best performance came from the baseline architecture ([64, 32]) with Adam and a learning rate of 0.001 (Trial 1), achieving 82.68% accuracy. Interestingly, increasing the hidden layer sizes (Trial 2) did not improve performance — in fact, it slightly reduced accuracy. Adding a third layer and lowering the learning rate in Trial 3 further decreased performance, possibly due to overfitting or under-training with fewer updates. Trial 4, which used SGD instead of Adam, performed the worst at 78.77%, confirming that Adam was more effective for this problem. Increasing the batch size to 64 (Trial 5) also slightly hurt performance, potentially due to less frequent gradient updates. Overall, the simpler baseline architecture with Adam and a moderate learning rate remained the most reliable. What I will say though, is that due to the relatively small size of the dataset, the percentages tend to vary. This is expected, but the trends could vary depending on those factors. "
      ]
    }
  ],
  "metadata": {
    "colab": {
      "provenance": []
    },
    "kernelspec": {
      "display_name": "Python 3",
      "name": "python3"
    },
    "language_info": {
      "codemirror_mode": {
        "name": "ipython",
        "version": 3
      },
      "file_extension": ".py",
      "mimetype": "text/x-python",
      "name": "python",
      "nbconvert_exporter": "python",
      "pygments_lexer": "ipython3",
      "version": "3.11.5"
    }
  },
  "nbformat": 4,
  "nbformat_minor": 0
}
